{
 "cells": [
  {
   "cell_type": "code",
   "execution_count": 70,
   "metadata": {},
   "outputs": [],
   "source": [
    "import pandas as pd\n",
    "\n",
    "\n",
    "song_data = pd.read_json(\"song_record.json\")"
   ]
  },
  {
   "cell_type": "code",
   "execution_count": null,
   "metadata": {},
   "outputs": [],
   "source": []
  },
  {
   "cell_type": "code",
   "execution_count": 157,
   "metadata": {},
   "outputs": [
    {
     "data": {
      "text/plain": [
       "user              {'_id': {'$oid': '641b13763a63f32bb9d71460'}}\n",
       "songRecord    [Z66D0F60, Z6BIWFEZ, Z6B0IC89, Z6AFUB8O, ZZF0W...\n",
       "Name: 0, dtype: object"
      ]
     },
     "execution_count": 157,
     "metadata": {},
     "output_type": "execute_result"
    }
   ],
   "source": [
    "song_data.iloc[0]"
   ]
  },
  {
   "cell_type": "code",
   "execution_count": 142,
   "metadata": {},
   "outputs": [
    {
     "data": {
      "text/plain": [
       "'641b13763a63f32bb9d71460'"
      ]
     },
     "execution_count": 142,
     "metadata": {},
     "output_type": "execute_result"
    }
   ],
   "source": [
    "z = song_data[\"user\"][0]\n",
    "z.get(\"_id\").get(\"$oid\")"
   ]
  },
  {
   "cell_type": "code",
   "execution_count": 133,
   "metadata": {},
   "outputs": [],
   "source": [
    "c = song_data[\"user\"].apply(pd.Series)\n"
   ]
  },
  {
   "cell_type": "code",
   "execution_count": 131,
   "metadata": {},
   "outputs": [
    {
     "data": {
      "text/html": [
       "<div>\n",
       "<style scoped>\n",
       "    .dataframe tbody tr th:only-of-type {\n",
       "        vertical-align: middle;\n",
       "    }\n",
       "\n",
       "    .dataframe tbody tr th {\n",
       "        vertical-align: top;\n",
       "    }\n",
       "\n",
       "    .dataframe thead th {\n",
       "        text-align: right;\n",
       "    }\n",
       "</style>\n",
       "<table border=\"1\" class=\"dataframe\">\n",
       "  <thead>\n",
       "    <tr style=\"text-align: right;\">\n",
       "      <th></th>\n",
       "      <th>$oid</th>\n",
       "    </tr>\n",
       "  </thead>\n",
       "  <tbody>\n",
       "    <tr>\n",
       "      <th>0</th>\n",
       "      <td>641b13763a63f32bb9d71460</td>\n",
       "    </tr>\n",
       "    <tr>\n",
       "      <th>1</th>\n",
       "      <td>641eb85a5525ce10c474f99f</td>\n",
       "    </tr>\n",
       "  </tbody>\n",
       "</table>\n",
       "</div>"
      ],
      "text/plain": [
       "                       $oid\n",
       "0  641b13763a63f32bb9d71460\n",
       "1  641eb85a5525ce10c474f99f"
      ]
     },
     "execution_count": 131,
     "metadata": {},
     "output_type": "execute_result"
    }
   ],
   "source": [
    "d=c[\"_id\"].apply(pd.Series)\n",
    "d"
   ]
  },
  {
   "cell_type": "code",
   "execution_count": 96,
   "metadata": {},
   "outputs": [],
   "source": [
    "from collections import Counter\n",
    "\n",
    "a = Counter(song_data[\"songRecord\"][0])\n"
   ]
  },
  {
   "cell_type": "code",
   "execution_count": 102,
   "metadata": {},
   "outputs": [
    {
     "data": {
      "text/plain": [
       "dict_keys(['Z66D0F60', 'Z6BIWFEZ', 'Z6B0IC89', 'Z6AFUB8O', 'ZZF0WU6O', 'Z6UCWZUD', 'Z6UFF9Z6', 'ZZAAZBZE', 'ZZ9IZ7FC', 'Z6ZU6E7O', 'ZW9CFDU9', 'ZZEU80WO', 'ZW7O8W7U', 'ZWADO97U', 'Z6BU7AWO', 'Z6BWFE7F', 'Z6ABDOOI', 'Z6BU8B6O', 'ZWA7CE0B', 'ZWZD9DCB', 'ZW6CZ0OW', 'ZWZ9Z0AO', 'ZW6I7ZE7', 'Z6UBADAF', 'ZWZ9Z09E', 'ZWZ9Z0AZ', 'ZW6FODWI', 'ZW807CUD', 'ZWBUA8B8', 'ZW8WCFEA', 'Z6AFC90A', 'Z6708WAZ', 'Z69AU0IA', 'ZODCZI0O', 'ZWAD6W69', 'ZOEFE9D0', 'ZWAEIAUC', 'ZUI98BWF', 'ZZU9060B', 'ZO9D67OA', 'ZW9BBE08', 'ZW8W777E', 'Z6BIO9UF', 'Z6AFC9WD', 'Z6A9IAC7', 'ZW6D986U', 'ZWZDB788', 'ZW6W0DAW', 'ZWZ9C7EW', 'ZWZEBZCZ', 'ZW7IUW0F', 'ZWAIFBFO', 'ZZ9IZ898', 'ZW9COZ9B', 'ZW7OCDC9', 'ZU7BII9Z', 'ZW7809OU', 'Z6WDI960', 'ZW6U9UDC', 'ZW6U9UEU', 'Z69U96OW', 'ZWA80C89', 'ZWAFDUW0', 'ZUZAO6A9', 'ZW7I06CD', 'ZW7OCEOE', 'Z690CIFO', 'ZO6EIB7B', 'ZW7IUA6E', 'Z6B7AE6A', 'Z6B6CBUD', 'Z6B7AFCO', 'Z6BU6IU6', 'Z6BZWZDF', 'Z6ACA0FZ', 'Z6BOOAFC', 'Z6BO69E8', 'Z6BO6B8U', 'ZZCIOB0W'])"
      ]
     },
     "execution_count": 102,
     "metadata": {},
     "output_type": "execute_result"
    }
   ],
   "source": [
    "a.keys()"
   ]
  },
  {
   "cell_type": "code",
   "execution_count": 234,
   "metadata": {},
   "outputs": [],
   "source": [
    "from numpy import NaN\n",
    "\n",
    "\n",
    "def generate_song_record(data):\n",
    "    total_df = pd.DataFrame()\n",
    "    for index in range(len(data)):\n",
    "        user_data = data.iloc[index]\n",
    "        user_id = user_data[\"user\"].get(\"_id\").get(\"$oid\")\n",
    "        if (user_data[\"songRecord\"] is not NaN):\n",
    "            song_record = Counter(user_data[\"songRecord\"])\n",
    "            df = pd.DataFrame()\n",
    "            df[\"song_id\"] = song_record.keys()\n",
    "            df[\"plays\"] = song_record.values()\n",
    "            df['user_id'] = user_id\n",
    "            total_df = pd.concat([total_df, df])\n",
    "        # user_id = user.get(\"_id\").get(\"$oid\")\n",
    "    return total_df\n"
   ]
  },
  {
   "cell_type": "code",
   "execution_count": 239,
   "metadata": {},
   "outputs": [],
   "source": [
    "dt = generate_song_record(song_data)\n",
    "dt.set_index(\"user_id\", inplace=True)\n",
    "dt.to_csv(\"song_record.csv\")"
   ]
  },
  {
   "cell_type": "code",
   "execution_count": 242,
   "metadata": {},
   "outputs": [],
   "source": [
    "song_record_data = pd.read_csv(\"song_record.csv\")"
   ]
  },
  {
   "cell_type": "code",
   "execution_count": 246,
   "metadata": {},
   "outputs": [
    {
     "ename": "TypeError",
     "evalue": "'csr_matrix' object is not callable",
     "output_type": "error",
     "traceback": [
      "\u001b[1;31m---------------------------------------------------------------------------\u001b[0m",
      "\u001b[1;31mTypeError\u001b[0m                                 Traceback (most recent call last)",
      "Cell \u001b[1;32mIn[246], line 8\u001b[0m\n\u001b[0;32m      3\u001b[0m wide_song_data \u001b[39m=\u001b[39m song_record_data\u001b[39m.\u001b[39mpivot(\n\u001b[0;32m      4\u001b[0m     index\u001b[39m=\u001b[39m\u001b[39m\"\u001b[39m\u001b[39msong_id\u001b[39m\u001b[39m\"\u001b[39m, columns\u001b[39m=\u001b[39m\u001b[39m\"\u001b[39m\u001b[39muser_id\u001b[39m\u001b[39m\"\u001b[39m, values\u001b[39m=\u001b[39m\u001b[39m\"\u001b[39m\u001b[39mplays\u001b[39m\u001b[39m\"\u001b[39m)\u001b[39m.\u001b[39mfillna(\u001b[39m0\u001b[39m)\n\u001b[0;32m      6\u001b[0m wide_song_data_sparse \u001b[39m=\u001b[39m csr_matrix(wide_song_data\u001b[39m.\u001b[39mvalues)\n\u001b[1;32m----> 8\u001b[0m wide_song_data_sparse()\n",
      "\u001b[1;31mTypeError\u001b[0m: 'csr_matrix' object is not callable"
     ]
    }
   ],
   "source": [
    "from scipy.sparse import csr_matrix\n",
    "\n",
    "wide_song_data = song_record_data.pivot(\n",
    "    index=\"song_id\", columns=\"user_id\", values=\"plays\").fillna(0)\n",
    "\n",
    "wide_song_data_sparse = csr_matrix(wide_song_data.values)\n"
   ]
  },
  {
   "cell_type": "code",
   "execution_count": 248,
   "metadata": {},
   "outputs": [],
   "source": [
    "import numpy as np\n",
    "\n",
    "\n",
    "def save_sparse_csr(filename, array):\n",
    "    np.savez(filename, data=array.data, indices=array.indices,\n",
    "             indptr=array.indptr, shape=array.shape)\n",
    "\n",
    "\n",
    "def load_sparse_csr(filename):\n",
    "    loader = np.load(filename)\n",
    "    return csr_matrix((loader['data'], loader['indices'], loader['indptr']), shape=loader['shape'])\n",
    "\n",
    "save_sparse_csr(\"song_data_sparse_matrix.npz\",wide_song_data_sparse)\n"
   ]
  },
  {
   "cell_type": "code",
   "execution_count": 250,
   "metadata": {},
   "outputs": [],
   "source": [
    "wide_song_data.to_csv(\"wide_song_data.csv\")"
   ]
  }
 ],
 "metadata": {
  "kernelspec": {
   "display_name": "Python 3",
   "language": "python",
   "name": "python3"
  },
  "language_info": {
   "codemirror_mode": {
    "name": "ipython",
    "version": 3
   },
   "file_extension": ".py",
   "mimetype": "text/x-python",
   "name": "python",
   "nbconvert_exporter": "python",
   "pygments_lexer": "ipython3",
   "version": "3.11.2"
  },
  "orig_nbformat": 4
 },
 "nbformat": 4,
 "nbformat_minor": 2
}
