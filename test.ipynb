{
 "cells": [
  {
   "cell_type": "code",
   "execution_count": 24,
   "metadata": {},
   "outputs": [],
   "source": [
    "import pandas as pd\n",
    "\n",
    "\n",
    "song_data = pd.read_json(\"song_record.json\")"
   ]
  },
  {
   "cell_type": "code",
   "execution_count": 25,
   "metadata": {},
   "outputs": [
    {
     "data": {
      "text/plain": [
       "user              {'_id': {'$oid': '641b13763a63f32bb9d71460'}}\n",
       "songRecord    [Z66D0F60, Z6BIWFEZ, Z6B0IC89, Z6AFUB8O, ZZF0W...\n",
       "Name: 0, dtype: object"
      ]
     },
     "execution_count": 25,
     "metadata": {},
     "output_type": "execute_result"
    }
   ],
   "source": [
    "song_data.iloc[0]"
   ]
  },
  {
   "cell_type": "code",
   "execution_count": 26,
   "metadata": {},
   "outputs": [
    {
     "data": {
      "text/plain": [
       "'641b13763a63f32bb9d71460'"
      ]
     },
     "execution_count": 26,
     "metadata": {},
     "output_type": "execute_result"
    }
   ],
   "source": [
    "z = song_data[\"user\"][0]\n",
    "z.get(\"_id\").get(\"$oid\")"
   ]
  },
  {
   "cell_type": "code",
   "execution_count": 27,
   "metadata": {},
   "outputs": [],
   "source": [
    "c = song_data[\"user\"].apply(pd.Series)\n"
   ]
  },
  {
   "cell_type": "code",
   "execution_count": 28,
   "metadata": {},
   "outputs": [
    {
     "data": {
      "text/html": [
       "<div>\n",
       "<style scoped>\n",
       "    .dataframe tbody tr th:only-of-type {\n",
       "        vertical-align: middle;\n",
       "    }\n",
       "\n",
       "    .dataframe tbody tr th {\n",
       "        vertical-align: top;\n",
       "    }\n",
       "\n",
       "    .dataframe thead th {\n",
       "        text-align: right;\n",
       "    }\n",
       "</style>\n",
       "<table border=\"1\" class=\"dataframe\">\n",
       "  <thead>\n",
       "    <tr style=\"text-align: right;\">\n",
       "      <th></th>\n",
       "      <th>$oid</th>\n",
       "    </tr>\n",
       "  </thead>\n",
       "  <tbody>\n",
       "    <tr>\n",
       "      <th>0</th>\n",
       "      <td>641b13763a63f32bb9d71460</td>\n",
       "    </tr>\n",
       "    <tr>\n",
       "      <th>1</th>\n",
       "      <td>641eb85a5525ce10c474f99f</td>\n",
       "    </tr>\n",
       "  </tbody>\n",
       "</table>\n",
       "</div>"
      ],
      "text/plain": [
       "                       $oid\n",
       "0  641b13763a63f32bb9d71460\n",
       "1  641eb85a5525ce10c474f99f"
      ]
     },
     "execution_count": 28,
     "metadata": {},
     "output_type": "execute_result"
    }
   ],
   "source": [
    "d=c[\"_id\"].apply(pd.Series)\n",
    "d"
   ]
  },
  {
   "cell_type": "code",
   "execution_count": 29,
   "metadata": {},
   "outputs": [],
   "source": [
    "from collections import Counter\n",
    "\n",
    "a = Counter(song_data[\"songRecord\"][0])\n"
   ]
  },
  {
   "cell_type": "code",
   "execution_count": 30,
   "metadata": {},
   "outputs": [
    {
     "data": {
      "text/plain": [
       "dict_keys(['Z66D0F60', 'Z6BIWFEZ', 'Z6B0IC89', 'Z6AFUB8O', 'ZZF0WU6O', 'Z6UCWZUD', 'Z6UFF9Z6', 'ZZAAZBZE', 'ZZ9IZ7FC', 'Z6ZU6E7O', 'ZW9CFDU9', 'ZZEU80WO', 'ZW7O8W7U', 'ZWADO97U', 'Z6BU7AWO', 'Z6BWFE7F', 'Z6ABDOOI', 'Z6BU8B6O', 'ZWA7CE0B', 'ZWZD9DCB', 'ZW6CZ0OW', 'ZWZ9Z0AO', 'ZW6I7ZE7', 'Z6UBADAF', 'ZWZ9Z09E', 'ZWZ9Z0AZ', 'ZW6FODWI', 'ZW807CUD', 'ZWBUA8B8', 'ZW8WCFEA', 'Z6AFC90A', 'Z6708WAZ', 'Z69AU0IA', 'ZODCZI0O', 'ZWAD6W69', 'ZOEFE9D0', 'ZWAEIAUC', 'ZUI98BWF', 'ZZU9060B', 'ZO9D67OA', 'ZW9BBE08', 'ZW8W777E', 'Z6BIO9UF', 'Z6AFC9WD', 'Z6A9IAC7', 'ZW6D986U', 'ZWZDB788', 'ZW6W0DAW', 'ZWZ9C7EW', 'ZWZEBZCZ', 'ZW7IUW0F', 'ZWAIFBFO', 'ZZ9IZ898', 'ZW9COZ9B', 'ZW7OCDC9', 'ZU7BII9Z', 'ZW7809OU', 'Z6WDI960', 'ZW6U9UDC', 'ZW6U9UEU', 'Z69U96OW', 'ZWA80C89', 'ZWAFDUW0', 'ZUZAO6A9', 'ZW7I06CD', 'ZW7OCEOE', 'Z690CIFO', 'ZO6EIB7B', 'ZW7IUA6E', 'Z6B7AE6A', 'Z6B6CBUD', 'Z6B7AFCO', 'Z6BU6IU6', 'Z6BZWZDF', 'Z6ACA0FZ', 'Z6BOOAFC', 'Z6BO69E8', 'Z6BO6B8U', 'ZZCIOB0W'])"
      ]
     },
     "execution_count": 30,
     "metadata": {},
     "output_type": "execute_result"
    }
   ],
   "source": [
    "a.keys()"
   ]
  },
  {
   "cell_type": "code",
   "execution_count": 31,
   "metadata": {},
   "outputs": [],
   "source": [
    "from numpy import NaN\n",
    "\n",
    "\n",
    "def generate_song_record(data):\n",
    "    total_df = pd.DataFrame()\n",
    "    for index in range(len(data)):\n",
    "        user_data = data.iloc[index]\n",
    "        user_id = user_data[\"user\"].get(\"_id\").get(\"$oid\")\n",
    "        if (user_data[\"songRecord\"] is not NaN):\n",
    "            song_record = Counter(user_data[\"songRecord\"])\n",
    "            df = pd.DataFrame()\n",
    "            df[\"song_id\"] = song_record.keys()\n",
    "            df[\"plays\"] = song_record.values()\n",
    "            df['user_id'] = user_id\n",
    "            total_df = pd.concat([total_df, df])\n",
    "        # user_id = user.get(\"_id\").get(\"$oid\")\n",
    "    return total_df\n"
   ]
  },
  {
   "cell_type": "code",
   "execution_count": 32,
   "metadata": {},
   "outputs": [],
   "source": [
    "dt = generate_song_record(song_data)\n",
    "dt.set_index(\"user_id\", inplace=True)\n",
    "dt.to_csv(\"song_record.csv\")"
   ]
  },
  {
   "cell_type": "code",
   "execution_count": 33,
   "metadata": {},
   "outputs": [],
   "source": [
    "def concat_song_record(prev_song_record, current_song_record):\n",
    "    concatted_song_record = pd.concat([prev_song_record, current_song_record],join='inner')\n",
    "    return concatted_song_record"
   ]
  },
  {
   "cell_type": "code",
   "execution_count": 34,
   "metadata": {},
   "outputs": [],
   "source": [
    "prev_song_record = pd.read_csv(\"song_record.csv\", index_col=\"user_id\")\n",
    "current_song_record = pd.read_csv(\"song_record copy.csv\", index_col=\"user_id\")\n",
    "\n",
    "concatted_song_record = concat_song_record(\n",
    "    prev_song_record=prev_song_record, current_song_record=current_song_record)\n",
    "concatted_song_record['plays'] = concatted_song_record.groupby(\n",
    "    ['user_id', 'song_id'])['plays'].transform('sum')\n",
    "# Need to drop duplicates value since concatenate two dataframe may cause duplicated value\n",
    "concatted_song_record.drop_duplicates(inplace=True)\n",
    "concatted_song_record.to_csv(\"song_record.csv\")\n"
   ]
  },
  {
   "cell_type": "code",
   "execution_count": 35,
   "metadata": {},
   "outputs": [],
   "source": [
    "song_record_data = pd.read_csv(\"song_record.csv\")"
   ]
  },
  {
   "cell_type": "code",
   "execution_count": 36,
   "metadata": {},
   "outputs": [],
   "source": [
    "from scipy.sparse import csr_matrix\n",
    "\n",
    "wide_song_data = song_record_data.pivot(\n",
    "    index=\"song_id\", columns=\"user_id\", values=\"plays\").fillna(0)\n",
    "\n",
    "wide_song_data_sparse = csr_matrix(wide_song_data.values)\n"
   ]
  },
  {
   "cell_type": "code",
   "execution_count": 37,
   "metadata": {},
   "outputs": [
    {
     "data": {
      "text/html": [
       "<div>\n",
       "<style scoped>\n",
       "    .dataframe tbody tr th:only-of-type {\n",
       "        vertical-align: middle;\n",
       "    }\n",
       "\n",
       "    .dataframe tbody tr th {\n",
       "        vertical-align: top;\n",
       "    }\n",
       "\n",
       "    .dataframe thead th {\n",
       "        text-align: right;\n",
       "    }\n",
       "</style>\n",
       "<table border=\"1\" class=\"dataframe\">\n",
       "  <thead>\n",
       "    <tr style=\"text-align: right;\">\n",
       "      <th></th>\n",
       "      <th>user_id</th>\n",
       "      <th>song_id</th>\n",
       "      <th>plays</th>\n",
       "    </tr>\n",
       "  </thead>\n",
       "  <tbody>\n",
       "    <tr>\n",
       "      <th>0</th>\n",
       "      <td>641b13763a63f32bb9d71460</td>\n",
       "      <td>Z66D0F60</td>\n",
       "      <td>2</td>\n",
       "    </tr>\n",
       "    <tr>\n",
       "      <th>1</th>\n",
       "      <td>641b13763a63f32bb9d71460</td>\n",
       "      <td>Z6BIWFEZ</td>\n",
       "      <td>2</td>\n",
       "    </tr>\n",
       "    <tr>\n",
       "      <th>2</th>\n",
       "      <td>641b13763a63f32bb9d71460</td>\n",
       "      <td>Z6B0IC89</td>\n",
       "      <td>2</td>\n",
       "    </tr>\n",
       "    <tr>\n",
       "      <th>3</th>\n",
       "      <td>641b13763a63f32bb9d71460</td>\n",
       "      <td>Z6AFUB8O</td>\n",
       "      <td>2</td>\n",
       "    </tr>\n",
       "    <tr>\n",
       "      <th>4</th>\n",
       "      <td>641b13763a63f32bb9d71460</td>\n",
       "      <td>ZZF0WU6O</td>\n",
       "      <td>2</td>\n",
       "    </tr>\n",
       "    <tr>\n",
       "      <th>...</th>\n",
       "      <td>...</td>\n",
       "      <td>...</td>\n",
       "      <td>...</td>\n",
       "    </tr>\n",
       "    <tr>\n",
       "      <th>82</th>\n",
       "      <td>test2</td>\n",
       "      <td>ZO6EIB7B</td>\n",
       "      <td>5</td>\n",
       "    </tr>\n",
       "    <tr>\n",
       "      <th>83</th>\n",
       "      <td>test2</td>\n",
       "      <td>Z6UBADAF</td>\n",
       "      <td>43</td>\n",
       "    </tr>\n",
       "    <tr>\n",
       "      <th>84</th>\n",
       "      <td>test2</td>\n",
       "      <td>ZW807CUD</td>\n",
       "      <td>15</td>\n",
       "    </tr>\n",
       "    <tr>\n",
       "      <th>85</th>\n",
       "      <td>test1</td>\n",
       "      <td>ZW6CZ0OW</td>\n",
       "      <td>20</td>\n",
       "    </tr>\n",
       "    <tr>\n",
       "      <th>86</th>\n",
       "      <td>test3</td>\n",
       "      <td>Z690CIFO</td>\n",
       "      <td>25</td>\n",
       "    </tr>\n",
       "  </tbody>\n",
       "</table>\n",
       "<p>87 rows × 3 columns</p>\n",
       "</div>"
      ],
      "text/plain": [
       "                     user_id   song_id  plays\n",
       "0   641b13763a63f32bb9d71460  Z66D0F60      2\n",
       "1   641b13763a63f32bb9d71460  Z6BIWFEZ      2\n",
       "2   641b13763a63f32bb9d71460  Z6B0IC89      2\n",
       "3   641b13763a63f32bb9d71460  Z6AFUB8O      2\n",
       "4   641b13763a63f32bb9d71460  ZZF0WU6O      2\n",
       "..                       ...       ...    ...\n",
       "82                     test2  ZO6EIB7B      5\n",
       "83                     test2  Z6UBADAF     43\n",
       "84                     test2  ZW807CUD     15\n",
       "85                     test1  ZW6CZ0OW     20\n",
       "86                     test3  Z690CIFO     25\n",
       "\n",
       "[87 rows x 3 columns]"
      ]
     },
     "execution_count": 37,
     "metadata": {},
     "output_type": "execute_result"
    }
   ],
   "source": [
    "song_record_data"
   ]
  },
  {
   "cell_type": "code",
   "execution_count": 38,
   "metadata": {},
   "outputs": [],
   "source": [
    "import numpy as np\n",
    "\n",
    "\n",
    "def save_sparse_csr(filename, array):\n",
    "    np.savez(filename, data=array.data, indices=array.indices,\n",
    "             indptr=array.indptr, shape=array.shape)\n",
    "\n",
    "\n",
    "def load_sparse_csr(filename):\n",
    "    loader = np.load(filename)\n",
    "    return csr_matrix((loader['data'], loader['indices'], loader['indptr']), shape=loader['shape'])\n",
    "\n",
    "save_sparse_csr(\"song_data_sparse_matrix.npz\",wide_song_data_sparse)\n"
   ]
  },
  {
   "cell_type": "code",
   "execution_count": 39,
   "metadata": {},
   "outputs": [],
   "source": [
    "wide_song_data.to_csv(\"song_play_record.csv\")"
   ]
  },
  {
   "cell_type": "code",
   "execution_count": 40,
   "metadata": {},
   "outputs": [
    {
     "data": {
      "text/html": [
       "<style>#sk-container-id-2 {color: black;background-color: white;}#sk-container-id-2 pre{padding: 0;}#sk-container-id-2 div.sk-toggleable {background-color: white;}#sk-container-id-2 label.sk-toggleable__label {cursor: pointer;display: block;width: 100%;margin-bottom: 0;padding: 0.3em;box-sizing: border-box;text-align: center;}#sk-container-id-2 label.sk-toggleable__label-arrow:before {content: \"▸\";float: left;margin-right: 0.25em;color: #696969;}#sk-container-id-2 label.sk-toggleable__label-arrow:hover:before {color: black;}#sk-container-id-2 div.sk-estimator:hover label.sk-toggleable__label-arrow:before {color: black;}#sk-container-id-2 div.sk-toggleable__content {max-height: 0;max-width: 0;overflow: hidden;text-align: left;background-color: #f0f8ff;}#sk-container-id-2 div.sk-toggleable__content pre {margin: 0.2em;color: black;border-radius: 0.25em;background-color: #f0f8ff;}#sk-container-id-2 input.sk-toggleable__control:checked~div.sk-toggleable__content {max-height: 200px;max-width: 100%;overflow: auto;}#sk-container-id-2 input.sk-toggleable__control:checked~label.sk-toggleable__label-arrow:before {content: \"▾\";}#sk-container-id-2 div.sk-estimator input.sk-toggleable__control:checked~label.sk-toggleable__label {background-color: #d4ebff;}#sk-container-id-2 div.sk-label input.sk-toggleable__control:checked~label.sk-toggleable__label {background-color: #d4ebff;}#sk-container-id-2 input.sk-hidden--visually {border: 0;clip: rect(1px 1px 1px 1px);clip: rect(1px, 1px, 1px, 1px);height: 1px;margin: -1px;overflow: hidden;padding: 0;position: absolute;width: 1px;}#sk-container-id-2 div.sk-estimator {font-family: monospace;background-color: #f0f8ff;border: 1px dotted black;border-radius: 0.25em;box-sizing: border-box;margin-bottom: 0.5em;}#sk-container-id-2 div.sk-estimator:hover {background-color: #d4ebff;}#sk-container-id-2 div.sk-parallel-item::after {content: \"\";width: 100%;border-bottom: 1px solid gray;flex-grow: 1;}#sk-container-id-2 div.sk-label:hover label.sk-toggleable__label {background-color: #d4ebff;}#sk-container-id-2 div.sk-serial::before {content: \"\";position: absolute;border-left: 1px solid gray;box-sizing: border-box;top: 0;bottom: 0;left: 50%;z-index: 0;}#sk-container-id-2 div.sk-serial {display: flex;flex-direction: column;align-items: center;background-color: white;padding-right: 0.2em;padding-left: 0.2em;position: relative;}#sk-container-id-2 div.sk-item {position: relative;z-index: 1;}#sk-container-id-2 div.sk-parallel {display: flex;align-items: stretch;justify-content: center;background-color: white;position: relative;}#sk-container-id-2 div.sk-item::before, #sk-container-id-2 div.sk-parallel-item::before {content: \"\";position: absolute;border-left: 1px solid gray;box-sizing: border-box;top: 0;bottom: 0;left: 50%;z-index: -1;}#sk-container-id-2 div.sk-parallel-item {display: flex;flex-direction: column;z-index: 1;position: relative;background-color: white;}#sk-container-id-2 div.sk-parallel-item:first-child::after {align-self: flex-end;width: 50%;}#sk-container-id-2 div.sk-parallel-item:last-child::after {align-self: flex-start;width: 50%;}#sk-container-id-2 div.sk-parallel-item:only-child::after {width: 0;}#sk-container-id-2 div.sk-dashed-wrapped {border: 1px dashed gray;margin: 0 0.4em 0.5em 0.4em;box-sizing: border-box;padding-bottom: 0.4em;background-color: white;}#sk-container-id-2 div.sk-label label {font-family: monospace;font-weight: bold;display: inline-block;line-height: 1.2em;}#sk-container-id-2 div.sk-label-container {text-align: center;}#sk-container-id-2 div.sk-container {/* jupyter's `normalize.less` sets `[hidden] { display: none; }` but bootstrap.min.css set `[hidden] { display: none !important; }` so we also need the `!important` here to be able to override the default hidden behavior on the sphinx rendered scikit-learn.org. See: https://github.com/scikit-learn/scikit-learn/issues/21755 */display: inline-block !important;position: relative;}#sk-container-id-2 div.sk-text-repr-fallback {display: none;}</style><div id=\"sk-container-id-2\" class=\"sk-top-container\"><div class=\"sk-text-repr-fallback\"><pre>NearestNeighbors(algorithm=&#x27;brute&#x27;, metric=&#x27;cosine&#x27;)</pre><b>In a Jupyter environment, please rerun this cell to show the HTML representation or trust the notebook. <br />On GitHub, the HTML representation is unable to render, please try loading this page with nbviewer.org.</b></div><div class=\"sk-container\" hidden><div class=\"sk-item\"><div class=\"sk-estimator sk-toggleable\"><input class=\"sk-toggleable__control sk-hidden--visually\" id=\"sk-estimator-id-2\" type=\"checkbox\" checked><label for=\"sk-estimator-id-2\" class=\"sk-toggleable__label sk-toggleable__label-arrow\">NearestNeighbors</label><div class=\"sk-toggleable__content\"><pre>NearestNeighbors(algorithm=&#x27;brute&#x27;, metric=&#x27;cosine&#x27;)</pre></div></div></div></div></div>"
      ],
      "text/plain": [
       "NearestNeighbors(algorithm='brute', metric='cosine')"
      ]
     },
     "execution_count": 40,
     "metadata": {},
     "output_type": "execute_result"
    }
   ],
   "source": [
    "from sklearn.neighbors import NearestNeighbors\n",
    "\n",
    "model_knn = NearestNeighbors(metric=\"cosine\", algorithm='brute')\n",
    "\n",
    "model_knn.fit(wide_song_data_sparse)\n"
   ]
  },
  {
   "cell_type": "code",
   "execution_count": 41,
   "metadata": {},
   "outputs": [],
   "source": [
    "import pickle\n",
    "pickle.dump(model_knn,open(\"knn_model.sav\",\"wb\"))"
   ]
  },
  {
   "cell_type": "code",
   "execution_count": 42,
   "metadata": {},
   "outputs": [],
   "source": [
    "import string\n",
    "from fuzzywuzzy import fuzz"
   ]
  },
  {
   "cell_type": "code",
   "execution_count": 43,
   "metadata": {},
   "outputs": [],
   "source": [
    "def print_song_recommendations(song_id, song_play_matrix, knn_model, k):\n",
    "    \"\"\"\n",
    "    Inputs:\n",
    "        song_id: id of song\n",
    "        song_play_matrix: song_play_matrix (not the sparse one, the pandas dataframe)\n",
    "        knn_model: our previously fitted knn_model\n",
    "        k: the number of nearest neighbors\n",
    "    Prints: Song recommendation for the provided song id\n",
    "    Return: None\n",
    "    \"\"\"\n",
    "    query_index = None\n",
    "    ratio_tuples = []\n",
    "\n",
    "    for i in song_play_matrix.index:\n",
    "        ratio = fuzz.ratio(i, song_id)\n",
    "        if ratio == 100:\n",
    "            current_index_query = song_play_matrix.index.tolist().index(i)\n",
    "            ratio_tuples.append((i, ratio, current_index_query))\n",
    "\n",
    "    try:\n",
    "        query_index = max(ratio_tuples, key=lambda x: x[1])[2]\n",
    "        print(song_play_matrix.iloc[query_index, :])\n",
    "    except:\n",
    "        print(\"Your song didn\\'t match any song id in the data. Try again\")\n",
    "        return None\n",
    "\n",
    "    distances, indices = knn_model.kneighbors(\n",
    "        song_play_matrix.iloc[query_index, :].values.reshape(1, -1), n_neighbors=k+1)\n",
    "\n",
    "    for i in range(0, len(distances.flatten())):\n",
    "        if i == 0:\n",
    "            print(\"Recommendations for {0}\\n\".format(\n",
    "                song_play_matrix.index[query_index]))\n",
    "        else:\n",
    "            print(\"{0}: {1}, with distance of {2}\".format(\n",
    "                i, song_play_matrix.index[indices.flatten()[i]], distances.flatten()[i]))\n",
    "    return None\n"
   ]
  },
  {
   "cell_type": "code",
   "execution_count": 44,
   "metadata": {},
   "outputs": [
    {
     "name": "stdout",
     "output_type": "stream",
     "text": [
      "user_id\n",
      "641b13763a63f32bb9d71460    2.0\n",
      "test1                       0.0\n",
      "test2                       0.0\n",
      "test3                       0.0\n",
      "Name: Z6ACA0FZ, dtype: float64\n",
      "Recommendations for Z6ACA0FZ\n",
      "\n",
      "1: ZW9CFDU9, with distance of 0.0\n",
      "2: ZW8W777E, with distance of 0.0\n",
      "3: ZW7OCDC9, with distance of 0.0\n",
      "4: ZW9BBE08, with distance of 0.0\n",
      "5: ZW9COZ9B, with distance of 0.0\n",
      "6: ZW7IUW0F, with distance of 0.0\n"
     ]
    }
   ],
   "source": [
    "print_song_recommendations(\"Z6ACA0FZ\", wide_song_data, model_knn, k=6)\n"
   ]
  }
 ],
 "metadata": {
  "kernelspec": {
   "display_name": "Python 3",
   "language": "python",
   "name": "python3"
  },
  "language_info": {
   "codemirror_mode": {
    "name": "ipython",
    "version": 3
   },
   "file_extension": ".py",
   "mimetype": "text/x-python",
   "name": "python",
   "nbconvert_exporter": "python",
   "pygments_lexer": "ipython3",
   "version": "3.11.2"
  },
  "orig_nbformat": 4
 },
 "nbformat": 4,
 "nbformat_minor": 2
}
